{
 "cells": [
  {
   "cell_type": "code",
   "execution_count": 6,
   "metadata": {},
   "outputs": [],
   "source": [
    "df <- read.csv(\"/Users/leijunjie/JUNJIE/lyrics_novelty_dataViz/cities_with_msaCode.csv\")"
   ]
  },
  {
   "cell_type": "code",
   "execution_count": 2,
   "metadata": {},
   "outputs": [
    {
     "name": "stderr",
     "output_type": "stream",
     "text": [
      "\n",
      "Please cite as: \n",
      "\n",
      "\n",
      " Hlavac, Marek (2018). stargazer: Well-Formatted Regression and Summary Statistics Tables.\n",
      "\n",
      " R package version 5.2.2. https://CRAN.R-project.org/package=stargazer \n",
      "\n",
      "\n",
      "── \u001b[1mAttaching packages\u001b[22m ─────────────────────────────────────── tidyverse 1.3.0 ──\n",
      "\n",
      "\u001b[32m✔\u001b[39m \u001b[34mtibble \u001b[39m 2.1.3     \u001b[32m✔\u001b[39m \u001b[34mdplyr  \u001b[39m 0.8.5\n",
      "\u001b[32m✔\u001b[39m \u001b[34mtidyr  \u001b[39m 1.0.2     \u001b[32m✔\u001b[39m \u001b[34mstringr\u001b[39m 1.4.0\n",
      "\u001b[32m✔\u001b[39m \u001b[34mreadr  \u001b[39m 1.3.1     \u001b[32m✔\u001b[39m \u001b[34mforcats\u001b[39m 0.5.0\n",
      "\u001b[32m✔\u001b[39m \u001b[34mpurrr  \u001b[39m 0.3.3     \n",
      "\n",
      "── \u001b[1mConflicts\u001b[22m ────────────────────────────────────────── tidyverse_conflicts() ──\n",
      "\u001b[31m✖\u001b[39m \u001b[34mreadr\u001b[39m::\u001b[32mcol_factor()\u001b[39m masks \u001b[34mscales\u001b[39m::col_factor()\n",
      "\u001b[31m✖\u001b[39m \u001b[34mpurrr\u001b[39m::\u001b[32mdiscard()\u001b[39m    masks \u001b[34mscales\u001b[39m::discard()\n",
      "\u001b[31m✖\u001b[39m \u001b[34mdplyr\u001b[39m::\u001b[32mfilter()\u001b[39m     masks \u001b[34mstats\u001b[39m::filter()\n",
      "\u001b[31m✖\u001b[39m \u001b[34mdplyr\u001b[39m::\u001b[32mlag()\u001b[39m        masks \u001b[34mstats\u001b[39m::lag()\n",
      "\n",
      "\n",
      "Attaching package: ‘reshape2’\n",
      "\n",
      "\n",
      "The following object is masked from ‘package:tidyr’:\n",
      "\n",
      "    smiths\n",
      "\n",
      "\n",
      "here() starts at /Users/leijunjie/JUNJIE/lyrics_novelty_dataViz\n",
      "\n",
      "Registered S3 method overwritten by 'GGally':\n",
      "  method from   \n",
      "  +.gg   ggplot2\n",
      "\n",
      "\n",
      "Attaching package: ‘GGally’\n",
      "\n",
      "\n",
      "The following object is masked from ‘package:dplyr’:\n",
      "\n",
      "    nasa\n",
      "\n",
      "\n"
     ]
    },
    {
     "name": "stdout",
     "output_type": "stream",
     "text": [
      "[1] Your Current Directory is ----> /Users/leijunjie/JUNJIE/lyrics_novelty_dataViz\n"
     ]
    }
   ],
   "source": [
    "source(\"/Users/leijunjie/Desktop/preload_libs/preload_packages_file.R\")"
   ]
  },
  {
   "cell_type": "code",
   "execution_count": 2,
   "metadata": {},
   "outputs": [],
   "source": [
    "df <- read.csv(\"./cities_with_msaCode.csv\")"
   ]
  },
  {
   "cell_type": "code",
   "execution_count": 3,
   "metadata": {},
   "outputs": [
    {
     "data": {
      "text/html": [
       "<table>\n",
       "<caption>A data.frame: 6 × 8</caption>\n",
       "<thead>\n",
       "\t<tr><th></th><th scope=col>X</th><th scope=col>Artist_Name</th><th scope=col>Year</th><th scope=col>Freq</th><th scope=col>lon</th><th scope=col>lat</th><th scope=col>MSA_Code</th><th scope=col>optional</th></tr>\n",
       "\t<tr><th></th><th scope=col>&lt;int&gt;</th><th scope=col>&lt;fct&gt;</th><th scope=col>&lt;int&gt;</th><th scope=col>&lt;int&gt;</th><th scope=col>&lt;dbl&gt;</th><th scope=col>&lt;dbl&gt;</th><th scope=col>&lt;int&gt;</th><th scope=col>&lt;lgl&gt;</th></tr>\n",
       "</thead>\n",
       "<tbody>\n",
       "\t<tr><th scope=row>1</th><td>1</td><td>          </td><td>1994</td><td>0</td><td> -87.62980</td><td>41.87811</td><td>16980</td><td>TRUE</td></tr>\n",
       "\t<tr><th scope=row>2</th><td>2</td><td>.         </td><td>1994</td><td>0</td><td> -96.79699</td><td>32.77666</td><td>19100</td><td>TRUE</td></tr>\n",
       "\t<tr><th scope=row>3</th><td>3</td><td>2007      </td><td>1994</td><td>0</td><td>-118.19374</td><td>33.77005</td><td>31080</td><td>TRUE</td></tr>\n",
       "\t<tr><th scope=row>4</th><td>4</td><td>Akron     </td><td>1994</td><td>0</td><td>-122.33207</td><td>47.60621</td><td>42660</td><td>TRUE</td></tr>\n",
       "\t<tr><th scope=row>5</th><td>5</td><td>Albany    </td><td>1994</td><td>0</td><td>-118.22007</td><td>33.89585</td><td>31080</td><td>TRUE</td></tr>\n",
       "\t<tr><th scope=row>6</th><td>6</td><td>Alexandria</td><td>1994</td><td>0</td><td>-118.24368</td><td>34.05223</td><td>31080</td><td>TRUE</td></tr>\n",
       "</tbody>\n",
       "</table>\n"
      ],
      "text/latex": [
       "A data.frame: 6 × 8\n",
       "\\begin{tabular}{r|llllllll}\n",
       "  & X & Artist\\_Name & Year & Freq & lon & lat & MSA\\_Code & optional\\\\\n",
       "  & <int> & <fct> & <int> & <int> & <dbl> & <dbl> & <int> & <lgl>\\\\\n",
       "\\hline\n",
       "\t1 & 1 &            & 1994 & 0 &  -87.62980 & 41.87811 & 16980 & TRUE\\\\\n",
       "\t2 & 2 & .          & 1994 & 0 &  -96.79699 & 32.77666 & 19100 & TRUE\\\\\n",
       "\t3 & 3 & 2007       & 1994 & 0 & -118.19374 & 33.77005 & 31080 & TRUE\\\\\n",
       "\t4 & 4 & Akron      & 1994 & 0 & -122.33207 & 47.60621 & 42660 & TRUE\\\\\n",
       "\t5 & 5 & Albany     & 1994 & 0 & -118.22007 & 33.89585 & 31080 & TRUE\\\\\n",
       "\t6 & 6 & Alexandria & 1994 & 0 & -118.24368 & 34.05223 & 31080 & TRUE\\\\\n",
       "\\end{tabular}\n"
      ],
      "text/markdown": [
       "\n",
       "A data.frame: 6 × 8\n",
       "\n",
       "| <!--/--> | X &lt;int&gt; | Artist_Name &lt;fct&gt; | Year &lt;int&gt; | Freq &lt;int&gt; | lon &lt;dbl&gt; | lat &lt;dbl&gt; | MSA_Code &lt;int&gt; | optional &lt;lgl&gt; |\n",
       "|---|---|---|---|---|---|---|---|---|\n",
       "| 1 | 1 | <!----> | 1994 | 0 |  -87.62980 | 41.87811 | 16980 | TRUE |\n",
       "| 2 | 2 | .          | 1994 | 0 |  -96.79699 | 32.77666 | 19100 | TRUE |\n",
       "| 3 | 3 | 2007       | 1994 | 0 | -118.19374 | 33.77005 | 31080 | TRUE |\n",
       "| 4 | 4 | Akron      | 1994 | 0 | -122.33207 | 47.60621 | 42660 | TRUE |\n",
       "| 5 | 5 | Albany     | 1994 | 0 | -118.22007 | 33.89585 | 31080 | TRUE |\n",
       "| 6 | 6 | Alexandria | 1994 | 0 | -118.24368 | 34.05223 | 31080 | TRUE |\n",
       "\n"
      ],
      "text/plain": [
       "  X Artist_Name Year Freq lon        lat      MSA_Code optional\n",
       "1 1             1994 0     -87.62980 41.87811 16980    TRUE    \n",
       "2 2 .           1994 0     -96.79699 32.77666 19100    TRUE    \n",
       "3 3 2007        1994 0    -118.19374 33.77005 31080    TRUE    \n",
       "4 4 Akron       1994 0    -122.33207 47.60621 42660    TRUE    \n",
       "5 5 Albany      1994 0    -118.22007 33.89585 31080    TRUE    \n",
       "6 6 Alexandria  1994 0    -118.24368 34.05223 31080    TRUE    "
      ]
     },
     "metadata": {},
     "output_type": "display_data"
    }
   ],
   "source": [
    "head(df)"
   ]
  },
  {
   "cell_type": "code",
   "execution_count": null,
   "metadata": {},
   "outputs": [],
   "source": []
  }
 ],
 "metadata": {
  "kernelspec": {
   "display_name": "R",
   "language": "R",
   "name": "ir"
  },
  "language_info": {
   "codemirror_mode": "r",
   "file_extension": ".r",
   "mimetype": "text/x-r-source",
   "name": "R",
   "pygments_lexer": "r",
   "version": "3.6.2"
  }
 },
 "nbformat": 4,
 "nbformat_minor": 2
}
