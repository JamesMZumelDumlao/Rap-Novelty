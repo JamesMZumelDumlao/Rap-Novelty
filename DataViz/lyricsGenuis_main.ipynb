{
 "cells": [
  {
   "cell_type": "code",
   "execution_count": 16,
   "metadata": {},
   "outputs": [],
   "source": [
    "import sys\n",
    "import os\n",
    "path = os.getcwd()\n",
    "path\n",
    "# os.chdir('../')\n",
    "%matplotlib inline"
   ]
  },
  {
   "cell_type": "code",
   "execution_count": 24,
   "metadata": {},
   "outputs": [
    {
     "data": {
      "text/plain": [
       "'/Users/leijunjie/JUNJIE/lyrics_novelty_dataViz'"
      ]
     },
     "execution_count": 24,
     "metadata": {},
     "output_type": "execute_result"
    }
   ],
   "source": [
    "path"
   ]
  },
  {
   "cell_type": "code",
   "execution_count": 26,
   "metadata": {},
   "outputs": [],
   "source": [
    "## !/usr/bin/python3\n",
    "os.chdir(\"/Users/leijunjie/Desktop/preload_libs/\")\n"
   ]
  },
  {
   "cell_type": "code",
   "execution_count": 27,
   "metadata": {},
   "outputs": [
    {
     "name": "stdout",
     "output_type": "stream",
     "text": [
      "=========================== \n",
      "----- Packages Loaded ----\n"
     ]
    }
   ],
   "source": [
    "from preload_py_libs import *"
   ]
  },
  {
   "cell_type": "code",
   "execution_count": 30,
   "metadata": {},
   "outputs": [],
   "source": [
    "df = pd.read_csv(\"../data/AnalysisDataset.csv\")"
   ]
  },
  {
   "cell_type": "code",
   "execution_count": 31,
   "metadata": {},
   "outputs": [
    {
     "name": "stdout",
     "output_type": "stream",
     "text": [
      "<class 'pandas.core.frame.DataFrame'>\n",
      "RangeIndex: 29966 entries, 0 to 29965\n",
      "Data columns (total 16 columns):\n",
      "Unnamed: 0      29962 non-null float64\n",
      "index           29964 non-null float64\n",
      "Artist_name     29964 non-null object\n",
      "Album_name      25519 non-null object\n",
      "Album_date      29964 non-null object\n",
      "Song_name       29964 non-null object\n",
      "Song_lyrics     29964 non-null object\n",
      "isEnglish       29962 non-null float64\n",
      "origin_city     29962 non-null object\n",
      "origin_state    29962 non-null object\n",
      "Cleaned         29960 non-null object\n",
      "Novelty         29960 non-null float64\n",
      "Transience      29960 non-null float64\n",
      "Resonance       29960 non-null float64\n",
      "Year            29960 non-null float64\n",
      "Origin          29960 non-null object\n",
      "dtypes: float64(7), object(9)\n",
      "memory usage: 3.7+ MB\n"
     ]
    }
   ],
   "source": [
    "df.info()"
   ]
  },
  {
   "cell_type": "code",
   "execution_count": 32,
   "metadata": {
    "scrolled": false
   },
   "outputs": [
    {
     "data": {
      "text/html": [
       "<div>\n",
       "<style scoped>\n",
       "    .dataframe tbody tr th:only-of-type {\n",
       "        vertical-align: middle;\n",
       "    }\n",
       "\n",
       "    .dataframe tbody tr th {\n",
       "        vertical-align: top;\n",
       "    }\n",
       "\n",
       "    .dataframe thead th {\n",
       "        text-align: right;\n",
       "    }\n",
       "</style>\n",
       "<table border=\"1\" class=\"dataframe\">\n",
       "  <thead>\n",
       "    <tr style=\"text-align: right;\">\n",
       "      <th></th>\n",
       "      <th>0</th>\n",
       "      <th>1</th>\n",
       "      <th>2</th>\n",
       "      <th>3</th>\n",
       "      <th>4</th>\n",
       "      <th>5</th>\n",
       "      <th>6</th>\n",
       "      <th>7</th>\n",
       "    </tr>\n",
       "  </thead>\n",
       "  <tbody>\n",
       "    <tr>\n",
       "      <th>level_0</th>\n",
       "      <td>count</td>\n",
       "      <td>mean</td>\n",
       "      <td>std</td>\n",
       "      <td>min</td>\n",
       "      <td>25%</td>\n",
       "      <td>50%</td>\n",
       "      <td>75%</td>\n",
       "      <td>max</td>\n",
       "    </tr>\n",
       "    <tr>\n",
       "      <th>Unnamed: 0</th>\n",
       "      <td>29962</td>\n",
       "      <td>14980.5</td>\n",
       "      <td>8649.43</td>\n",
       "      <td>0</td>\n",
       "      <td>7490.25</td>\n",
       "      <td>14980.5</td>\n",
       "      <td>22470.8</td>\n",
       "      <td>29961</td>\n",
       "    </tr>\n",
       "    <tr>\n",
       "      <th>index</th>\n",
       "      <td>29964</td>\n",
       "      <td>48264.1</td>\n",
       "      <td>26303.5</td>\n",
       "      <td>0.829573</td>\n",
       "      <td>25541.8</td>\n",
       "      <td>48971</td>\n",
       "      <td>71361.2</td>\n",
       "      <td>91543</td>\n",
       "    </tr>\n",
       "    <tr>\n",
       "      <th>isEnglish</th>\n",
       "      <td>29962</td>\n",
       "      <td>0.795179</td>\n",
       "      <td>0.0544692</td>\n",
       "      <td>-0.0655</td>\n",
       "      <td>0.76405</td>\n",
       "      <td>0.798601</td>\n",
       "      <td>0.830918</td>\n",
       "      <td>0.994845</td>\n",
       "    </tr>\n",
       "    <tr>\n",
       "      <th>Novelty</th>\n",
       "      <td>29960</td>\n",
       "      <td>4.80197</td>\n",
       "      <td>0.53792</td>\n",
       "      <td>3.64</td>\n",
       "      <td>4.44</td>\n",
       "      <td>4.68</td>\n",
       "      <td>5.02</td>\n",
       "      <td>9.22</td>\n",
       "    </tr>\n",
       "    <tr>\n",
       "      <th>Transience</th>\n",
       "      <td>29960</td>\n",
       "      <td>4.80321</td>\n",
       "      <td>0.533759</td>\n",
       "      <td>3.73</td>\n",
       "      <td>4.44</td>\n",
       "      <td>4.69</td>\n",
       "      <td>5.02</td>\n",
       "      <td>9.19</td>\n",
       "    </tr>\n",
       "    <tr>\n",
       "      <th>Resonance</th>\n",
       "      <td>29960</td>\n",
       "      <td>-0.0012795</td>\n",
       "      <td>0.0732864</td>\n",
       "      <td>-1.42</td>\n",
       "      <td>-0.0374</td>\n",
       "      <td>-0.0009665</td>\n",
       "      <td>0.035925</td>\n",
       "      <td>0.821</td>\n",
       "    </tr>\n",
       "    <tr>\n",
       "      <th>Year</th>\n",
       "      <td>29960</td>\n",
       "      <td>2011.81</td>\n",
       "      <td>6.32485</td>\n",
       "      <td>1994</td>\n",
       "      <td>2008</td>\n",
       "      <td>2014</td>\n",
       "      <td>2017</td>\n",
       "      <td>2019</td>\n",
       "    </tr>\n",
       "  </tbody>\n",
       "</table>\n",
       "</div>"
      ],
      "text/plain": [
       "                0          1          2         3        4          5  \\\n",
       "level_0     count       mean        std       min      25%        50%   \n",
       "Unnamed: 0  29962    14980.5    8649.43         0  7490.25    14980.5   \n",
       "index       29964    48264.1    26303.5  0.829573  25541.8      48971   \n",
       "isEnglish   29962   0.795179  0.0544692   -0.0655  0.76405   0.798601   \n",
       "Novelty     29960    4.80197    0.53792      3.64     4.44       4.68   \n",
       "Transience  29960    4.80321   0.533759      3.73     4.44       4.69   \n",
       "Resonance   29960 -0.0012795  0.0732864     -1.42  -0.0374 -0.0009665   \n",
       "Year        29960    2011.81    6.32485      1994     2008       2014   \n",
       "\n",
       "                   6         7  \n",
       "level_0          75%       max  \n",
       "Unnamed: 0   22470.8     29961  \n",
       "index        71361.2     91543  \n",
       "isEnglish   0.830918  0.994845  \n",
       "Novelty         5.02      9.22  \n",
       "Transience      5.02      9.19  \n",
       "Resonance   0.035925     0.821  \n",
       "Year            2017      2019  "
      ]
     },
     "execution_count": 32,
     "metadata": {},
     "output_type": "execute_result"
    }
   ],
   "source": [
    "df.describe().reset_index().T"
   ]
  },
  {
   "cell_type": "code",
   "execution_count": 33,
   "metadata": {},
   "outputs": [
    {
     "data": {
      "text/html": [
       "<div>\n",
       "<style scoped>\n",
       "    .dataframe tbody tr th:only-of-type {\n",
       "        vertical-align: middle;\n",
       "    }\n",
       "\n",
       "    .dataframe tbody tr th {\n",
       "        vertical-align: top;\n",
       "    }\n",
       "\n",
       "    .dataframe thead th {\n",
       "        text-align: right;\n",
       "    }\n",
       "</style>\n",
       "<table border=\"1\" class=\"dataframe\">\n",
       "  <thead>\n",
       "    <tr style=\"text-align: right;\">\n",
       "      <th></th>\n",
       "      <th>0</th>\n",
       "      <th>1</th>\n",
       "      <th>2</th>\n",
       "      <th>3</th>\n",
       "    </tr>\n",
       "  </thead>\n",
       "  <tbody>\n",
       "    <tr>\n",
       "      <th>index</th>\n",
       "      <td>count</td>\n",
       "      <td>unique</td>\n",
       "      <td>top</td>\n",
       "      <td>freq</td>\n",
       "    </tr>\n",
       "    <tr>\n",
       "      <th>Artist_name</th>\n",
       "      <td>29964</td>\n",
       "      <td>1141</td>\n",
       "      <td>Gucci Mane</td>\n",
       "      <td>450</td>\n",
       "    </tr>\n",
       "    <tr>\n",
       "      <th>Album_name</th>\n",
       "      <td>25519</td>\n",
       "      <td>6009</td>\n",
       "      <td>Yung Bans</td>\n",
       "      <td>46</td>\n",
       "    </tr>\n",
       "    <tr>\n",
       "      <th>Album_date</th>\n",
       "      <td>29964</td>\n",
       "      <td>4484</td>\n",
       "      <td>1/1/13</td>\n",
       "      <td>107</td>\n",
       "    </tr>\n",
       "    <tr>\n",
       "      <th>Song_name</th>\n",
       "      <td>29964</td>\n",
       "      <td>26011</td>\n",
       "      <td>Intro</td>\n",
       "      <td>56</td>\n",
       "    </tr>\n",
       "    <tr>\n",
       "      <th>Song_lyrics</th>\n",
       "      <td>29964</td>\n",
       "      <td>29918</td>\n",
       "      <td>[Intro]\\nHow we get down\\nHow we get down\\nHow...</td>\n",
       "      <td>4</td>\n",
       "    </tr>\n",
       "    <tr>\n",
       "      <th>origin_city</th>\n",
       "      <td>29962</td>\n",
       "      <td>246</td>\n",
       "      <td>Atlanta</td>\n",
       "      <td>2547</td>\n",
       "    </tr>\n",
       "    <tr>\n",
       "      <th>origin_state</th>\n",
       "      <td>29962</td>\n",
       "      <td>43</td>\n",
       "      <td>NY</td>\n",
       "      <td>7012</td>\n",
       "    </tr>\n",
       "    <tr>\n",
       "      <th>Cleaned</th>\n",
       "      <td>29960</td>\n",
       "      <td>29888</td>\n",
       "      <td>girl  girl  girl  girl Unique Reppin town  gi...</td>\n",
       "      <td>4</td>\n",
       "    </tr>\n",
       "    <tr>\n",
       "      <th>Origin</th>\n",
       "      <td>29960</td>\n",
       "      <td>253</td>\n",
       "      <td>Atlanta, GA</td>\n",
       "      <td>2547</td>\n",
       "    </tr>\n",
       "  </tbody>\n",
       "</table>\n",
       "</div>"
      ],
      "text/plain": [
       "                  0       1  \\\n",
       "index         count  unique   \n",
       "Artist_name   29964    1141   \n",
       "Album_name    25519    6009   \n",
       "Album_date    29964    4484   \n",
       "Song_name     29964   26011   \n",
       "Song_lyrics   29964   29918   \n",
       "origin_city   29962     246   \n",
       "origin_state  29962      43   \n",
       "Cleaned       29960   29888   \n",
       "Origin        29960     253   \n",
       "\n",
       "                                                              2     3  \n",
       "index                                                       top  freq  \n",
       "Artist_name                                          Gucci Mane   450  \n",
       "Album_name                                            Yung Bans    46  \n",
       "Album_date                                               1/1/13   107  \n",
       "Song_name                                                 Intro    56  \n",
       "Song_lyrics   [Intro]\\nHow we get down\\nHow we get down\\nHow...     4  \n",
       "origin_city                                             Atlanta  2547  \n",
       "origin_state                                                 NY  7012  \n",
       "Cleaned        girl  girl  girl  girl Unique Reppin town  gi...     4  \n",
       "Origin                                              Atlanta, GA  2547  "
      ]
     },
     "execution_count": 33,
     "metadata": {},
     "output_type": "execute_result"
    }
   ],
   "source": [
    "# summary statistics of the character columns\n",
    "# >>> need to be filter out >>> data filtering\n",
    "df.describe(include=['object']).reset_index().T"
   ]
  },
  {
   "cell_type": "code",
   "execution_count": 34,
   "metadata": {},
   "outputs": [],
   "source": [
    "df_filter_col = df[\n",
    "    [\n",
    "        'index',\n",
    "        'Artist_name', \n",
    "        'Album_name', \n",
    "        'Album_date', \n",
    "        'Song_name', \n",
    "        'isEnglish', \n",
    "        'origin_city',\n",
    "        'origin_state', \n",
    "        'Novelty',\n",
    "        'Transience',\n",
    "        'Resonance',\n",
    "        'Year'\n",
    "    ]\n",
    "]"
   ]
  },
  {
   "cell_type": "code",
   "execution_count": 35,
   "metadata": {},
   "outputs": [
    {
     "name": "stdout",
     "output_type": "stream",
     "text": [
      "<class 'pandas.core.frame.DataFrame'>\n",
      "RangeIndex: 29966 entries, 0 to 29965\n",
      "Data columns (total 12 columns):\n",
      "index           29964 non-null float64\n",
      "Artist_name     29964 non-null object\n",
      "Album_name      25519 non-null object\n",
      "Album_date      29964 non-null object\n",
      "Song_name       29964 non-null object\n",
      "isEnglish       29962 non-null float64\n",
      "origin_city     29962 non-null object\n",
      "origin_state    29962 non-null object\n",
      "Novelty         29960 non-null float64\n",
      "Transience      29960 non-null float64\n",
      "Resonance       29960 non-null float64\n",
      "Year            29960 non-null float64\n",
      "dtypes: float64(6), object(6)\n",
      "memory usage: 2.7+ MB\n"
     ]
    }
   ],
   "source": [
    "df_filter_col.info()"
   ]
  },
  {
   "cell_type": "code",
   "execution_count": null,
   "metadata": {},
   "outputs": [],
   "source": [
    "df.to_csv()"
   ]
  },
  {
   "cell_type": "markdown",
   "metadata": {},
   "source": [
    "\n",
    "\n",
    "```\n",
    "<<< df_filter_col constructed;\n",
    "```\n",
    "\n",
    "removed \n",
    "- Song_lyrics --> not my concern\n",
    "- Cleaned --> not my concern\n",
    "- Origin --> duplicated\n",
    "\n",
    "--- \n",
    "\n",
    "\n",
    "```\n",
    ">>> initial data viz\n",
    "```\n",
    "\n"
   ]
  },
  {
   "cell_type": "markdown",
   "metadata": {},
   "source": [
    "```\n",
    ">>> Generate Dataframe profile report\n",
    "\n",
    "```\n",
    "\n",
    "\n",
    "---\n",
    ">> output: `report.html`\n"
   ]
  },
  {
   "cell_type": "code",
   "execution_count": 36,
   "metadata": {
    "scrolled": true
   },
   "outputs": [],
   "source": [
    "# pfr = pandas_profiling.ProfileReport(df_filter_col)\n",
    "# pfr.to_file('report.html')"
   ]
  },
  {
   "cell_type": "markdown",
   "metadata": {},
   "source": [
    "```\n",
    "GeoCode\n",
    "```"
   ]
  },
  {
   "cell_type": "code",
   "execution_count": 41,
   "metadata": {},
   "outputs": [
    {
     "name": "stdout",
     "output_type": "stream",
     "text": [
      "Collecting addfips\n",
      "\u001b[?25l  Downloading https://files.pythonhosted.org/packages/45/72/4f76cc094b3c8c302d5eddc6d961f29ca610a07ba321e919badb293422f6/addfips-0.2.2-py2.py3-none-any.whl (78kB)\n",
      "\u001b[K     |████████████████████████████████| 81kB 2.3MB/s eta 0:00:01\n",
      "\u001b[?25hInstalling collected packages: addfips\n",
      "Successfully installed addfips-0.2.2\n",
      "Note: you may need to restart the kernel to use updated packages.\n"
     ]
    }
   ],
   "source": [
    "pip install addfips"
   ]
  },
  {
   "cell_type": "code",
   "execution_count": null,
   "metadata": {},
   "outputs": [],
   "source": []
  }
 ],
 "metadata": {
  "kernelspec": {
   "display_name": "Python 3",
   "language": "python",
   "name": "python3"
  },
  "language_info": {
   "codemirror_mode": {
    "name": "ipython",
    "version": 3
   },
   "file_extension": ".py",
   "mimetype": "text/x-python",
   "name": "python",
   "nbconvert_exporter": "python",
   "pygments_lexer": "ipython3",
   "version": "3.7.4"
  }
 },
 "nbformat": 4,
 "nbformat_minor": 2
}
