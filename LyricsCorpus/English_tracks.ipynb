{
 "cells": [
  {
   "cell_type": "code",
   "execution_count": 7,
   "metadata": {},
   "outputs": [
    {
     "name": "stdout",
     "output_type": "stream",
     "text": [
      "Collecting lyricsgenius\n",
      "  Using cached https://files.pythonhosted.org/packages/4a/47/5aba67735bf3b7f2b1f4c1e5d1f9892050847e27e7fafdec14fc72d41bc1/lyricsgenius-1.8.2-py3-none-any.whl\n",
      "Requirement already satisfied: requests>=2.20.0 in ./opt/anaconda3/lib/python3.7/site-packages (from lyricsgenius) (2.22.0)\n",
      "Collecting beautifulsoup4==4.6.0 (from lyricsgenius)\n",
      "  Using cached https://files.pythonhosted.org/packages/9e/d4/10f46e5cfac773e22707237bfcd51bbffeaf0a576b0a847ec7ab15bd7ace/beautifulsoup4-4.6.0-py3-none-any.whl\n",
      "Requirement already satisfied: idna<2.9,>=2.5 in ./opt/anaconda3/lib/python3.7/site-packages (from requests>=2.20.0->lyricsgenius) (2.8)\n",
      "Requirement already satisfied: certifi>=2017.4.17 in ./opt/anaconda3/lib/python3.7/site-packages (from requests>=2.20.0->lyricsgenius) (2019.9.11)\n",
      "Requirement already satisfied: urllib3!=1.25.0,!=1.25.1,<1.26,>=1.21.1 in ./opt/anaconda3/lib/python3.7/site-packages (from requests>=2.20.0->lyricsgenius) (1.24.2)\n",
      "Requirement already satisfied: chardet<3.1.0,>=3.0.2 in ./opt/anaconda3/lib/python3.7/site-packages (from requests>=2.20.0->lyricsgenius) (3.0.4)\n",
      "Installing collected packages: beautifulsoup4, lyricsgenius\n",
      "  Found existing installation: beautifulsoup4 4.8.0\n",
      "    Uninstalling beautifulsoup4-4.8.0:\n",
      "      Successfully uninstalled beautifulsoup4-4.8.0\n",
      "Successfully installed beautifulsoup4-4.6.0 lyricsgenius-1.8.2\n",
      "Note: you may need to restart the kernel to use updated packages.\n"
     ]
    }
   ],
   "source": [
    "pip install lyricsgenius"
   ]
  },
  {
   "cell_type": "code",
   "execution_count": 143,
   "metadata": {},
   "outputs": [],
   "source": [
    "import lyricsgenius as genius\n",
    "import pandas as pd\n",
    "import matplotlib as plt\n",
    "import json"
   ]
  },
  {
   "cell_type": "code",
   "execution_count": 1,
   "metadata": {},
   "outputs": [],
   "source": [
    "class hiphop():\n",
    "    ''' Class that interfaces with LyricsGenius and ensures outputs for multiple Artists saved in a single file\n",
    "    called compendium.json\n",
    "    '''\n",
    "    import lyricsgenius as genius\n",
    "    import os\n",
    "    \n",
    "    def __init__(self, client_access_token, ArtistsMaxSongNumberz):\n",
    "        import lyricsgenius as genius\n",
    "        import os\n",
    "        #self.client_access_token = client_access_token\n",
    "        #self.api = genius.Genius(self.client_access_token,\n",
    "        #         response_format='plain', timeout=5, sleep_time=0.5,\n",
    "        #         verbose=True, remove_section_headers=False,\n",
    "        #         skip_non_songs=True, excluded_terms=[],\n",
    "        #         replace_default_terms=False)\n",
    "        #assert isinstance(ArtistsMaxSongNumberz, dict), \"Only dictionaries with artist-max_song_number pairs accepted\"\n",
    "        self.ArtistsMaxSongNumbers = ArtistsMaxSongNumberz\n",
    "        self.compendium = {}\n",
    "        self.dict_for_pandas ={}\n",
    "        \n",
    "    \n",
    "    def add_artists_and_songs(self):\n",
    "        '''\n",
    "        Adds artists and their song (or where artists already exist their additional songs) to the compendium of artist information and songs\n",
    "        '''\n",
    "        import os\n",
    "        import json\n",
    "        \n",
    "        skip, count = False, 0\n",
    "        for talent in self.ArtistsMaxSongNumbers.keys():\n",
    "            if (talent in self.compendium.keys()) and (len(self.compendium[talent]['songs']) == self.ArtistsMaxSongNumbers[talent]):\n",
    "                print(\"{} of {}'s songs are already captured in compendium as required. No need to re-search. Leave as is \".format(self.ArtistsMaxSongNumbers[talent], talent))\n",
    "                count+= 1\n",
    "                if count == len(self.ArtistsMaxSongNumbers.keys()):\n",
    "                    skip = True\n",
    "                continue\n",
    "            artist = self.api.search_artist(talent, max_songs=self.ArtistsMaxSongNumbers[talent])\n",
    "            if talent != artist.name:\n",
    "                print('changing search parameter {} to artist name as found {}'.format(talent, artist.name))\n",
    "            artist._body['songs'] = [song._body for song in artist.songs]\n",
    "            self.compendium[artist.name] = artist._body\n",
    "        \n",
    "        if skip:\n",
    "            print('Songs of all the specified artists are already captured in compendium. No update or addition required')\n",
    "            return None\n",
    "        else:\n",
    "            filename = 'compendium.json'\n",
    "            if input(\"{} ready to save. Save to file?\\n(y/n): \".format(filename)).lower() == 'n':\n",
    "                return self.compendium\n",
    "            elif os.path.isfile(filename) and input(\"file {} already exists. Overwrite?\\n(y/n): \".format(filename)).lower() == 'n':\n",
    "                print('aborting overwrite and returning compendium as dictionary')\n",
    "                return self.compendium\n",
    "            else:\n",
    "                with open(filename, \"w\") as ff:\n",
    "                    json.dump(self.compendium, ff, indent=1)\n",
    "                return self.compendium\n",
    "    \n",
    "    \n",
    "    def resume_after_disconnection(self):\n",
    "        '''\n",
    "        to resume song search and addition following an api call disconnected (with Timeout error) without having \n",
    "        to re-search for artists and songs previously completed before the api call drop / termination\n",
    "        '''\n",
    "        self.add_artists_and_songs()\n",
    "\n",
    "    def output_result(self, filepath=None):\n",
    "        '''\n",
    "        Output a dataframe with the required parameters from the dictionary returned by add_artists_and_songs() method \n",
    "        or gotten the file compendium.json saved by add_artists_and_songs() method\n",
    "        \n",
    "        It also converts the compendium into a dicitionary of LyricsGenius Artist objects and Song objects\n",
    "        such that the LyricsGenius methods can be used on any of these objects to simplify manipulation if required. \n",
    "        A get_compendium method is later on provided to enable this compendium attribute to be retrieved on demand\n",
    "        '''\n",
    "        import os\n",
    "        import json\n",
    "        import pandas as pd\n",
    "        \n",
    "        if filepath:\n",
    "            if os.path.isfile(filepath):\n",
    "                with open(filepath, 'r') as fd:\n",
    "                    self.compendium = json.load(fd)\n",
    "            else:\n",
    "                print('{}is not a valid file path. Please provide another filepath'.format(filepath))\n",
    "                return None\n",
    "        \n",
    "        for talent in self.compendium.keys():\n",
    "            self.compendium[talent] = genius.artist.Artist({'artist': self.compendium[talent]})\n",
    "            for work in self.compendium[talent]._body['songs']:\n",
    "                lyrics = work.pop('lyrics')\n",
    "                track = genius.song.Song(work, lyrics)\n",
    "                self.compendium[talent].add_song(track)\n",
    "            \n",
    "        self.dict_for_pandas['Artist_name'] = [self.compendium[talent].name for talent in self.compendium.keys() for work in self.compendium[talent].songs]\n",
    "        self.dict_for_pandas['Album_name'] = [work.album for talent in self.compendium.keys() for work in self.compendium[talent].songs]\n",
    "        self.dict_for_pandas['Album_date'] = [work.year for talent in self.compendium.keys() for work in self.compendium[talent].songs]\n",
    "        self.dict_for_pandas['Song_name'] = [work.title for talent in self.compendium.keys() for work in self.compendium[talent].songs]\n",
    "        self.dict_for_pandas['Song_lyrics'] = [work.lyrics for talent in self.compendium.keys() for work in self.compendium[talent].songs]\n",
    "            \n",
    "        return pd.DataFrame.from_dict(self.dict_for_pandas)"
   ]
  },
  {
   "cell_type": "code",
   "execution_count": 2,
   "metadata": {},
   "outputs": [],
   "source": [
    "result = hiphop(1, 1)"
   ]
  },
  {
   "cell_type": "code",
   "execution_count": 11,
   "metadata": {},
   "outputs": [],
   "source": [
    "table = result.output_result(filepath=\"/Users/emekanwosu/Desktop/Own_Coding_Projects/RapGenius/lyrics/compendium.json\")"
   ]
  },
  {
   "cell_type": "code",
   "execution_count": 12,
   "metadata": {},
   "outputs": [
    {
     "data": {
      "text/html": [
       "<div>\n",
       "<style scoped>\n",
       "    .dataframe tbody tr th:only-of-type {\n",
       "        vertical-align: middle;\n",
       "    }\n",
       "\n",
       "    .dataframe tbody tr th {\n",
       "        vertical-align: top;\n",
       "    }\n",
       "\n",
       "    .dataframe thead th {\n",
       "        text-align: right;\n",
       "    }\n",
       "</style>\n",
       "<table border=\"1\" class=\"dataframe\">\n",
       "  <thead>\n",
       "    <tr style=\"text-align: right;\">\n",
       "      <th></th>\n",
       "      <th>Artist_name</th>\n",
       "      <th>Album_name</th>\n",
       "      <th>Album_date</th>\n",
       "      <th>Song_name</th>\n",
       "      <th>Song_lyrics</th>\n",
       "    </tr>\n",
       "  </thead>\n",
       "  <tbody>\n",
       "    <tr>\n",
       "      <td>0</td>\n",
       "      <td>Arabian Prince</td>\n",
       "      <td>Where’s My Bytches</td>\n",
       "      <td>None</td>\n",
       "      <td>Where Ya Been Bytch</td>\n",
       "      <td>[Chorus:] Where ya been bitch, where ya been b...</td>\n",
       "    </tr>\n",
       "    <tr>\n",
       "      <td>1</td>\n",
       "      <td>Arabian Prince</td>\n",
       "      <td>None</td>\n",
       "      <td>1989-11-28</td>\n",
       "      <td>She’s Got A Big Posse</td>\n",
       "      <td>[Skit: Announcer + Arabian Prince]\\n\\nGood mor...</td>\n",
       "    </tr>\n",
       "    <tr>\n",
       "      <td>2</td>\n",
       "      <td>Arabian Prince</td>\n",
       "      <td>Brother Arab</td>\n",
       "      <td>1989-11-28</td>\n",
       "      <td>Get On Up</td>\n",
       "      <td>Rollin, everybody dance with the soul and\\nI'm...</td>\n",
       "    </tr>\n",
       "    <tr>\n",
       "      <td>3</td>\n",
       "      <td>Arabian Prince</td>\n",
       "      <td>Brother Arab</td>\n",
       "      <td>None</td>\n",
       "      <td>It’s a Dope Thang</td>\n",
       "      <td>Wakin up, to the sound I'm boomin\\nFrom the br...</td>\n",
       "    </tr>\n",
       "    <tr>\n",
       "      <td>4</td>\n",
       "      <td>Arabian Prince</td>\n",
       "      <td>Brother Arab</td>\n",
       "      <td>1989-11-28</td>\n",
       "      <td>Let the Good Times Roll (Nickel Bag)</td>\n",
       "      <td>Life is a jungle, I'm a hunter who's lossin\\nI...</td>\n",
       "    </tr>\n",
       "    <tr>\n",
       "      <td>...</td>\n",
       "      <td>...</td>\n",
       "      <td>...</td>\n",
       "      <td>...</td>\n",
       "      <td>...</td>\n",
       "      <td>...</td>\n",
       "    </tr>\n",
       "    <tr>\n",
       "      <td>117420</td>\n",
       "      <td>XXXTENTACION</td>\n",
       "      <td>None</td>\n",
       "      <td>2018-03-16</td>\n",
       "      <td>Pain = BESTFRIEND (OG)</td>\n",
       "      <td>[Verse: XXXTENTACION]\\nLost in regret, I\\nFeel...</td>\n",
       "    </tr>\n",
       "    <tr>\n",
       "      <td>117421</td>\n",
       "      <td>XXXTENTACION</td>\n",
       "      <td>None</td>\n",
       "      <td>None</td>\n",
       "      <td>Moonlight (Clean)</td>\n",
       "      <td>[Intro]\\nYeah\\n\\n[Chorus]\\nSpotlight, uh, moon...</td>\n",
       "    </tr>\n",
       "    <tr>\n",
       "      <td>117422</td>\n",
       "      <td>XXXTENTACION</td>\n",
       "      <td>None</td>\n",
       "      <td>None</td>\n",
       "      <td>Toxic (Self Made Beat 1)</td>\n",
       "      <td>[Instrumental]</td>\n",
       "    </tr>\n",
       "    <tr>\n",
       "      <td>117423</td>\n",
       "      <td>XXXTENTACION</td>\n",
       "      <td>None</td>\n",
       "      <td>2015-04-10</td>\n",
       "      <td>RUN UP ON ME (ORIGINAL)</td>\n",
       "      <td>Yeah\\nFuck you niggas talkin' 'bout?\\nFuck!\\nF...</td>\n",
       "    </tr>\n",
       "    <tr>\n",
       "      <td>117424</td>\n",
       "      <td>XXXTENTACION</td>\n",
       "      <td>None</td>\n",
       "      <td>2016-01-16</td>\n",
       "      <td>IGOTPLENTYDICKTOSHARE (Snippet)</td>\n",
       "      <td>Voot up, voot up\\nBitch want my dick\\nPop that...</td>\n",
       "    </tr>\n",
       "  </tbody>\n",
       "</table>\n",
       "<p>117425 rows × 5 columns</p>\n",
       "</div>"
      ],
      "text/plain": [
       "           Artist_name          Album_name  Album_date  \\\n",
       "0       Arabian Prince  Where’s My Bytches        None   \n",
       "1       Arabian Prince                None  1989-11-28   \n",
       "2       Arabian Prince        Brother Arab  1989-11-28   \n",
       "3       Arabian Prince        Brother Arab        None   \n",
       "4       Arabian Prince        Brother Arab  1989-11-28   \n",
       "...                ...                 ...         ...   \n",
       "117420    XXXTENTACION                None  2018-03-16   \n",
       "117421    XXXTENTACION                None        None   \n",
       "117422    XXXTENTACION                None        None   \n",
       "117423    XXXTENTACION                None  2015-04-10   \n",
       "117424    XXXTENTACION                None  2016-01-16   \n",
       "\n",
       "                                   Song_name  \\\n",
       "0                        Where Ya Been Bytch   \n",
       "1                      She’s Got A Big Posse   \n",
       "2                                  Get On Up   \n",
       "3                          It’s a Dope Thang   \n",
       "4       Let the Good Times Roll (Nickel Bag)   \n",
       "...                                      ...   \n",
       "117420                Pain = BESTFRIEND (OG)   \n",
       "117421                     Moonlight (Clean)   \n",
       "117422              Toxic (Self Made Beat 1)   \n",
       "117423               RUN UP ON ME (ORIGINAL)   \n",
       "117424       IGOTPLENTYDICKTOSHARE (Snippet)   \n",
       "\n",
       "                                              Song_lyrics  \n",
       "0       [Chorus:] Where ya been bitch, where ya been b...  \n",
       "1       [Skit: Announcer + Arabian Prince]\\n\\nGood mor...  \n",
       "2       Rollin, everybody dance with the soul and\\nI'm...  \n",
       "3       Wakin up, to the sound I'm boomin\\nFrom the br...  \n",
       "4       Life is a jungle, I'm a hunter who's lossin\\nI...  \n",
       "...                                                   ...  \n",
       "117420  [Verse: XXXTENTACION]\\nLost in regret, I\\nFeel...  \n",
       "117421  [Intro]\\nYeah\\n\\n[Chorus]\\nSpotlight, uh, moon...  \n",
       "117422                                     [Instrumental]  \n",
       "117423  Yeah\\nFuck you niggas talkin' 'bout?\\nFuck!\\nF...  \n",
       "117424  Voot up, voot up\\nBitch want my dick\\nPop that...  \n",
       "\n",
       "[117425 rows x 5 columns]"
      ]
     },
     "execution_count": 12,
     "metadata": {},
     "output_type": "execute_result"
    }
   ],
   "source": [
    "table"
   ]
  },
  {
   "cell_type": "code",
   "execution_count": 48,
   "metadata": {},
   "outputs": [],
   "source": [
    "word_list= pd.read_csv(\"/Users/emekanwosu/Desktop/Own_Coding_Projects/RapGenius/word_dict/dictionary/popular.txt\",delimiter=',')"
   ]
  },
  {
   "cell_type": "code",
   "execution_count": 64,
   "metadata": {},
   "outputs": [
    {
     "data": {
      "text/plain": [
       "0        aardvark\n",
       "1           aargh\n",
       "2           aback\n",
       "3          abacus\n",
       "4         abandon\n",
       "           ...   \n",
       "25316      zoning\n",
       "25317      zonked\n",
       "25318         zoo\n",
       "25319        zoom\n",
       "25320     zooming\n",
       "Name: words, Length: 25321, dtype: object"
      ]
     },
     "execution_count": 64,
     "metadata": {},
     "output_type": "execute_result"
    }
   ],
   "source": [
    "word_list.columns = ['words']\n",
    "word_list['words']"
   ]
  },
  {
   "cell_type": "code",
   "execution_count": 52,
   "metadata": {},
   "outputs": [],
   "source": [
    "tester = table['Song_lyrics'][0]"
   ]
  },
  {
   "cell_type": "code",
   "execution_count": 167,
   "metadata": {},
   "outputs": [],
   "source": [
    "def isEnglish(x):\n",
    "    punc2remove = ['{', '}', '[', ']', ':', '.', ';', '\"', '(', ')', ',', '!', '&', '$', '#', '@', '?', '*']\n",
    "    punc_remover = {ord(i): None for i in punc2remove}\n",
    "    if x:\n",
    "        inpt = x.lower()\n",
    "        punc_removed = inpt.translate(punc_remover)\n",
    "        listz = pd.Series(punc_removed.split())\n",
    "        return listz.isin(word_list['words']).mean()\n",
    "    else:\n",
    "        return 0.0\n"
   ]
  },
  {
   "cell_type": "code",
   "execution_count": 164,
   "metadata": {},
   "outputs": [],
   "source": [
    "table['isEnglish'] = table['Song_lyrics'].apply(isEnglish)"
   ]
  },
  {
   "cell_type": "code",
   "execution_count": 166,
   "metadata": {},
   "outputs": [
    {
     "data": {
      "text/plain": [
       "<matplotlib.axes._subplots.AxesSubplot at 0x2ea7d7b10>"
      ]
     },
     "execution_count": 166,
     "metadata": {},
     "output_type": "execute_result"
    },
    {
     "data": {
      "image/png": "[encoded data removed]",
      "text/plain": [
       "<Figure size 432x288 with 1 Axes>"
      ]
     },
     "metadata": {
      "needs_background": "light"
     },
     "output_type": "display_data"
    }
   ],
   "source": [
    "table['isEnglish'].hist()"
   ]
  },
  {
   "cell_type": "code",
   "execution_count": 168,
   "metadata": {},
   "outputs": [
    {
     "data": {
      "text/html": [
       "<div>\n",
       "<style scoped>\n",
       "    .dataframe tbody tr th:only-of-type {\n",
       "        vertical-align: middle;\n",
       "    }\n",
       "\n",
       "    .dataframe tbody tr th {\n",
       "        vertical-align: top;\n",
       "    }\n",
       "\n",
       "    .dataframe thead th {\n",
       "        text-align: right;\n",
       "    }\n",
       "</style>\n",
       "<table border=\"1\" class=\"dataframe\">\n",
       "  <thead>\n",
       "    <tr style=\"text-align: right;\">\n",
       "      <th></th>\n",
       "      <th>Artist_name</th>\n",
       "      <th>Album_name</th>\n",
       "      <th>Album_date</th>\n",
       "      <th>Song_name</th>\n",
       "      <th>Song_lyrics</th>\n",
       "      <th>isEnglish</th>\n",
       "    </tr>\n",
       "  </thead>\n",
       "  <tbody>\n",
       "    <tr>\n",
       "      <td>225</td>\n",
       "      <td>OG Kid Frost</td>\n",
       "      <td>That Was Then, This Is Now Vol. 1</td>\n",
       "      <td>1999-08-31</td>\n",
       "      <td>Los Katrachos</td>\n",
       "      <td>[Mr. Gee]\\nYa le vas\\nOtra rola\\nAsi es\\nPara ...</td>\n",
       "      <td>0.496711</td>\n",
       "    </tr>\n",
       "    <tr>\n",
       "      <td>900</td>\n",
       "      <td>Professor Griff</td>\n",
       "      <td>Pawns in the Game</td>\n",
       "      <td>1990-01-01</td>\n",
       "      <td>It’s A Blax Thanks</td>\n",
       "      <td>[Professor Griff]\\nIt's a black thanks, you be...</td>\n",
       "      <td>0.374631</td>\n",
       "    </tr>\n",
       "    <tr>\n",
       "      <td>1514</td>\n",
       "      <td>Ja Rule</td>\n",
       "      <td>None</td>\n",
       "      <td>2015-09-13</td>\n",
       "      <td>Loose Change (Tradução)</td>\n",
       "      <td>Verso 1:\\n\\nQuantos cara segura uma arma como ...</td>\n",
       "      <td>0.147982</td>\n",
       "    </tr>\n",
       "    <tr>\n",
       "      <td>1956</td>\n",
       "      <td>Nas</td>\n",
       "      <td>None</td>\n",
       "      <td>None</td>\n",
       "      <td>Nas Outro</td>\n",
       "      <td>Ei sais kokeiluu kielt kerta ei johda minnekkn...</td>\n",
       "      <td>0.086957</td>\n",
       "    </tr>\n",
       "    <tr>\n",
       "      <td>2396</td>\n",
       "      <td>Queen Latifah</td>\n",
       "      <td>None</td>\n",
       "      <td>None</td>\n",
       "      <td>Corcovado (quiet nights of quiet stars)</td>\n",
       "      <td>Quiet nights of quiet stars\\nQuiet chords from...</td>\n",
       "      <td>0.321429</td>\n",
       "    </tr>\n",
       "    <tr>\n",
       "      <td>...</td>\n",
       "      <td>...</td>\n",
       "      <td>...</td>\n",
       "      <td>...</td>\n",
       "      <td>...</td>\n",
       "      <td>...</td>\n",
       "      <td>...</td>\n",
       "    </tr>\n",
       "    <tr>\n",
       "      <td>113633</td>\n",
       "      <td>Akua Naru</td>\n",
       "      <td>The Miner’s Canary</td>\n",
       "      <td>2015-02-20</td>\n",
       "      <td>Untitled (Asé)</td>\n",
       "      <td>[Verse: Akua Naru]\\nUh, uh\\nFor those that ser...</td>\n",
       "      <td>0.298246</td>\n",
       "    </tr>\n",
       "    <tr>\n",
       "      <td>115247</td>\n",
       "      <td>Kid Buu</td>\n",
       "      <td>None</td>\n",
       "      <td>None</td>\n",
       "      <td>Life’s Gucci</td>\n",
       "      <td>[Hook]\\nGucci, Gucci, Gucci, Gucci\\nGucci, Guc...</td>\n",
       "      <td>0.241379</td>\n",
       "    </tr>\n",
       "    <tr>\n",
       "      <td>116074</td>\n",
       "      <td>2Pac</td>\n",
       "      <td>None</td>\n",
       "      <td>None</td>\n",
       "      <td>Outlawz</td>\n",
       "      <td>He'll 4 a hustle</td>\n",
       "      <td>0.250000</td>\n",
       "    </tr>\n",
       "    <tr>\n",
       "      <td>116930</td>\n",
       "      <td>Lil Nas X</td>\n",
       "      <td>None</td>\n",
       "      <td>None</td>\n",
       "      <td>Poo Poo Pee Pee</td>\n",
       "      <td>Ayo, poop pee\\nPoo poo</td>\n",
       "      <td>0.400000</td>\n",
       "    </tr>\n",
       "    <tr>\n",
       "      <td>117405</td>\n",
       "      <td>XXXTENTACION</td>\n",
       "      <td>None</td>\n",
       "      <td>2018-03-02</td>\n",
       "      <td>XXXTENTACION - SAD! (Czech Translation/Český p...</td>\n",
       "      <td>[Intro]\\nYeah\\n\\n[Refrén]\\nKdo jsem? Někdo, kt...</td>\n",
       "      <td>0.179167</td>\n",
       "    </tr>\n",
       "  </tbody>\n",
       "</table>\n",
       "<p>4252 rows × 6 columns</p>\n",
       "</div>"
      ],
      "text/plain": [
       "            Artist_name                         Album_name  Album_date  \\\n",
       "225        OG Kid Frost  That Was Then, This Is Now Vol. 1  1999-08-31   \n",
       "900     Professor Griff                  Pawns in the Game  1990-01-01   \n",
       "1514            Ja Rule                               None  2015-09-13   \n",
       "1956                Nas                               None        None   \n",
       "2396      Queen Latifah                               None        None   \n",
       "...                 ...                                ...         ...   \n",
       "113633        Akua Naru                 The Miner’s Canary  2015-02-20   \n",
       "115247          Kid Buu                               None        None   \n",
       "116074             2Pac                               None        None   \n",
       "116930        Lil Nas X                               None        None   \n",
       "117405     XXXTENTACION                               None  2018-03-02   \n",
       "\n",
       "                                                Song_name  \\\n",
       "225                                         Los Katrachos   \n",
       "900                                    It’s A Blax Thanks   \n",
       "1514                              Loose Change (Tradução)   \n",
       "1956                                            Nas Outro   \n",
       "2396              Corcovado (quiet nights of quiet stars)   \n",
       "...                                                   ...   \n",
       "113633                                     Untitled (Asé)   \n",
       "115247                                       Life’s Gucci   \n",
       "116074                                            Outlawz   \n",
       "116930                                    Poo Poo Pee Pee   \n",
       "117405  XXXTENTACION - SAD! (Czech Translation/Český p...   \n",
       "\n",
       "                                              Song_lyrics  isEnglish  \n",
       "225     [Mr. Gee]\\nYa le vas\\nOtra rola\\nAsi es\\nPara ...   0.496711  \n",
       "900     [Professor Griff]\\nIt's a black thanks, you be...   0.374631  \n",
       "1514    Verso 1:\\n\\nQuantos cara segura uma arma como ...   0.147982  \n",
       "1956    Ei sais kokeiluu kielt kerta ei johda minnekkn...   0.086957  \n",
       "2396    Quiet nights of quiet stars\\nQuiet chords from...   0.321429  \n",
       "...                                                   ...        ...  \n",
       "113633  [Verse: Akua Naru]\\nUh, uh\\nFor those that ser...   0.298246  \n",
       "115247  [Hook]\\nGucci, Gucci, Gucci, Gucci\\nGucci, Guc...   0.241379  \n",
       "116074                                   He'll 4 a hustle   0.250000  \n",
       "116930                             Ayo, poop pee\\nPoo poo   0.400000  \n",
       "117405  [Intro]\\nYeah\\n\\n[Refrén]\\nKdo jsem? Někdo, kt...   0.179167  \n",
       "\n",
       "[4252 rows x 6 columns]"
      ]
     },
     "execution_count": 168,
     "metadata": {},
     "output_type": "execute_result"
    }
   ],
   "source": [
    "table.loc[(table['isEnglish'] < 0.5) & (table['isEnglish'] > 0)]"
   ]
  },
  {
   "cell_type": "code",
   "execution_count": 170,
   "metadata": {},
   "outputs": [
    {
     "data": {
      "text/plain": [
       "4252"
      ]
     },
     "execution_count": 170,
     "metadata": {},
     "output_type": "execute_result"
    }
   ],
   "source": [
    "len(table.loc[(table['isEnglish'] < 0.5) & (table['isEnglish'] > 0)])"
   ]
  },
  {
   "cell_type": "code",
   "execution_count": 176,
   "metadata": {},
   "outputs": [
    {
     "data": {
      "text/plain": [
       "'Quiet nights of quiet stars\\nQuiet chords from my guitar\\nFloating on the silence that surrounds us\\nQuiet thoughts and quiet dreams\\nQuiet walks by quiet streams\\nAnd a window that looks out on Corcovado\\nOh, how lovely\\nUm cantinho, violo\\nEsse amor, uma cancao\\nPra fazer feliz j que se ama\\nMuita calma pra pensar\\nE ter tempo pra sonhar\\nDa janela v-se o Corcovado\\nO Redentor, que lindo\\nQuero a vida sempre assim\\nCom voce perto de mim\\nAte o apagar da velha chama\\nE eu, que era triste\\nDescrente desse mundo\\nAo encontrar voce eu conheci\\nO que a felicidade, meu amor\\nQuero a vida sempre assim\\nCom voce perto de mim\\nAt o apagar da velha chama\\nE eu, que era triste\\nDescrente desse mundo\\nAo encontrar voce eu conheci\\nO que a felicidade, meu amor'"
      ]
     },
     "execution_count": 176,
     "metadata": {},
     "output_type": "execute_result"
    }
   ],
   "source": [
    "# Use this code to see the lyrics of a particular song\n",
    "# this shows the lyrics of song with index 116930\n",
    "\n",
    "\n",
    "table.loc[2396]['Song_lyrics'] "
   ]
  },
  {
   "cell_type": "code",
   "execution_count": 172,
   "metadata": {},
   "outputs": [],
   "source": [
    "with open('/Users/emekanwosu/Desktop/Own_Coding_Projects/RapGenius/englishSongs.json', 'w') as json_file:\n",
    "    #json.dump(table, json_file, indent=1)\n",
    "    table.to_json(json_file, orient='index') "
   ]
  },
  {
   "cell_type": "code",
   "execution_count": 173,
   "metadata": {},
   "outputs": [
    {
     "data": {
      "text/plain": [
       "40394"
      ]
     },
     "execution_count": 173,
     "metadata": {},
     "output_type": "execute_result"
    }
   ],
   "source": [
    "table2 = table.loc[(table['isEnglish'] >= 0.5)]\n",
    "#table2 = table2.loc[~table2['isEnglish'].isna()]\n",
    "len(table2.loc[(table['Album_date'].isna())])"
   ]
  },
  {
   "cell_type": "code",
   "execution_count": null,
   "metadata": {},
   "outputs": [],
   "source": []
  }
 ],
 "metadata": {
  "kernelspec": {
   "display_name": "Python 3",
   "language": "python",
   "name": "python3"
  },
  "language_info": {
   "codemirror_mode": {
    "name": "ipython",
    "version": 3
   },
   "file_extension": ".py",
   "mimetype": "text/x-python",
   "name": "python",
   "nbconvert_exporter": "python",
   "pygments_lexer": "ipython3",
   "version": "3.7.4"
  }
 },
 "nbformat": 4,
 "nbformat_minor": 2
}
