{
 "cells": [
  {
   "cell_type": "code",
   "execution_count": 1,
   "metadata": {},
   "outputs": [],
   "source": [
    "import pandas as pd\n",
    "import string\n",
    "import re\n",
    "\n"
   ]
  },
  {
   "cell_type": "code",
   "execution_count": 2,
   "metadata": {},
   "outputs": [
    {
     "name": "stdout",
     "output_type": "stream",
     "text": [
      "Collecting gensim\n",
      "  Downloading https://files.pythonhosted.org/packages/09/ed/b59a2edde05b7f5755ea68648487c150c7c742361e9c8733c6d4ca005020/gensim-3.8.1-cp37-cp37m-win_amd64.whl (24.2MB)\n",
      "Requirement already satisfied: scipy>=0.18.1 in c:\\users\\zumel\\anaconda3\\lib\\site-packages (from gensim) (1.3.1)\n",
      "Requirement already satisfied: numpy>=1.11.3 in c:\\users\\zumel\\anaconda3\\lib\\site-packages (from gensim) (1.16.5)\n",
      "Collecting smart-open>=1.8.1 (from gensim)\n",
      "  Downloading https://files.pythonhosted.org/packages/6e/14/47cf88d290e4681be35f3b6e8889ba26ed809a0ba14336dc8ae46ffcfda8/smart_open-1.10.0.tar.gz (99kB)\n",
      "Requirement already satisfied: six>=1.5.0 in c:\\users\\zumel\\anaconda3\\lib\\site-packages (from gensim) (1.12.0)\n",
      "Requirement already satisfied: requests in c:\\users\\zumel\\anaconda3\\lib\\site-packages (from smart-open>=1.8.1->gensim) (2.22.0)\n",
      "Collecting boto3 (from smart-open>=1.8.1->gensim)\n",
      "  Downloading https://files.pythonhosted.org/packages/22/d6/4c7cdb6fc93ec5e2bceb2d424d788e78edbede4b7fc2153110776b179ff1/boto3-1.12.37-py2.py3-none-any.whl (128kB)\n",
      "Collecting google-cloud-storage (from smart-open>=1.8.1->gensim)\n",
      "  Downloading https://files.pythonhosted.org/packages/72/09/3af468fdf141923b78cdee7395cf0df65804cc6d25557ef1b55d4980673f/google_cloud_storage-1.27.0-py2.py3-none-any.whl (79kB)\n",
      "Requirement already satisfied: idna<2.9,>=2.5 in c:\\users\\zumel\\anaconda3\\lib\\site-packages (from requests->smart-open>=1.8.1->gensim) (2.8)\n",
      "Requirement already satisfied: certifi>=2017.4.17 in c:\\users\\zumel\\anaconda3\\lib\\site-packages (from requests->smart-open>=1.8.1->gensim) (2019.9.11)\n",
      "Requirement already satisfied: chardet<3.1.0,>=3.0.2 in c:\\users\\zumel\\anaconda3\\lib\\site-packages (from requests->smart-open>=1.8.1->gensim) (3.0.4)\n",
      "Requirement already satisfied: urllib3!=1.25.0,!=1.25.1,<1.26,>=1.21.1 in c:\\users\\zumel\\anaconda3\\lib\\site-packages (from requests->smart-open>=1.8.1->gensim) (1.24.2)\n",
      "Collecting jmespath<1.0.0,>=0.7.1 (from boto3->smart-open>=1.8.1->gensim)\n",
      "  Downloading https://files.pythonhosted.org/packages/a3/43/1e939e1fcd87b827fe192d0c9fc25b48c5b3368902bfb913de7754b0dc03/jmespath-0.9.5-py2.py3-none-any.whl\n",
      "Collecting s3transfer<0.4.0,>=0.3.0 (from boto3->smart-open>=1.8.1->gensim)\n",
      "  Downloading https://files.pythonhosted.org/packages/69/79/e6afb3d8b0b4e96cefbdc690f741d7dd24547ff1f94240c997a26fa908d3/s3transfer-0.3.3-py2.py3-none-any.whl (69kB)\n",
      "Collecting botocore<1.16.0,>=1.15.37 (from boto3->smart-open>=1.8.1->gensim)\n",
      "  Downloading https://files.pythonhosted.org/packages/cf/74/27f29461c517a25c07243d1104d5fd65439b793366278237752f18b63697/botocore-1.15.37-py2.py3-none-any.whl (6.1MB)\n",
      "Collecting google-auth<2.0dev,>=1.11.0 (from google-cloud-storage->smart-open>=1.8.1->gensim)\n",
      "  Downloading https://files.pythonhosted.org/packages/dc/1a/c3c2f3aa4190d8154a146ad33aa5479c8d193cc6211abe5c535921d93389/google_auth-1.13.1-py2.py3-none-any.whl (87kB)\n",
      "Collecting google-cloud-core<2.0dev,>=1.2.0 (from google-cloud-storage->smart-open>=1.8.1->gensim)\n",
      "  Downloading https://files.pythonhosted.org/packages/89/3c/8a7531839028c9690e6d14c650521f3bbaf26e53baaeb2784b8c3eb2fb97/google_cloud_core-1.3.0-py2.py3-none-any.whl\n",
      "Collecting google-resumable-media<0.6dev,>=0.5.0 (from google-cloud-storage->smart-open>=1.8.1->gensim)\n",
      "  Downloading https://files.pythonhosted.org/packages/35/9e/f73325d0466ce5bdc36333f1aeb2892ead7b76e79bdb5c8b0493961fa098/google_resumable_media-0.5.0-py2.py3-none-any.whl\n",
      "Requirement already satisfied: docutils<0.16,>=0.10 in c:\\users\\zumel\\anaconda3\\lib\\site-packages (from botocore<1.16.0,>=1.15.37->boto3->smart-open>=1.8.1->gensim) (0.15.2)\n",
      "Requirement already satisfied: python-dateutil<3.0.0,>=2.1 in c:\\users\\zumel\\anaconda3\\lib\\site-packages (from botocore<1.16.0,>=1.15.37->boto3->smart-open>=1.8.1->gensim) (2.8.0)\n",
      "Collecting pyasn1-modules>=0.2.1 (from google-auth<2.0dev,>=1.11.0->google-cloud-storage->smart-open>=1.8.1->gensim)\n",
      "  Downloading https://files.pythonhosted.org/packages/95/de/214830a981892a3e286c3794f41ae67a4495df1108c3da8a9f62159b9a9d/pyasn1_modules-0.2.8-py2.py3-none-any.whl (155kB)\n",
      "Collecting rsa<4.1,>=3.1.4 (from google-auth<2.0dev,>=1.11.0->google-cloud-storage->smart-open>=1.8.1->gensim)\n",
      "  Downloading https://files.pythonhosted.org/packages/02/e5/38518af393f7c214357079ce67a317307936896e961e35450b70fad2a9cf/rsa-4.0-py2.py3-none-any.whl\n",
      "Requirement already satisfied: setuptools>=40.3.0 in c:\\users\\zumel\\anaconda3\\lib\\site-packages (from google-auth<2.0dev,>=1.11.0->google-cloud-storage->smart-open>=1.8.1->gensim) (41.4.0)\n",
      "Collecting cachetools<5.0,>=2.0.0 (from google-auth<2.0dev,>=1.11.0->google-cloud-storage->smart-open>=1.8.1->gensim)\n",
      "  Downloading https://files.pythonhosted.org/packages/08/6a/abf83cb951617793fd49c98cb9456860f5df66ff89883c8660aa0672d425/cachetools-4.0.0-py3-none-any.whl\n",
      "Collecting google-api-core<2.0.0dev,>=1.16.0 (from google-cloud-core<2.0dev,>=1.2.0->google-cloud-storage->smart-open>=1.8.1->gensim)\n",
      "  Downloading https://files.pythonhosted.org/packages/63/7e/a523169b0cc9ce62d56e07571db927286a94b1a5f51ac220bd97db825c77/google_api_core-1.16.0-py2.py3-none-any.whl (70kB)\n",
      "Collecting pyasn1<0.5.0,>=0.4.6 (from pyasn1-modules>=0.2.1->google-auth<2.0dev,>=1.11.0->google-cloud-storage->smart-open>=1.8.1->gensim)\n",
      "  Downloading https://files.pythonhosted.org/packages/62/1e/a94a8d635fa3ce4cfc7f506003548d0a2447ae76fd5ca53932970fe3053f/pyasn1-0.4.8-py2.py3-none-any.whl (77kB)\n",
      "Collecting googleapis-common-protos<2.0dev,>=1.6.0 (from google-api-core<2.0.0dev,>=1.16.0->google-cloud-core<2.0dev,>=1.2.0->google-cloud-storage->smart-open>=1.8.1->gensim)\n",
      "  Downloading https://files.pythonhosted.org/packages/05/46/168fd780f594a4d61122f7f3dc0561686084319ad73b4febbf02ae8b32cf/googleapis-common-protos-1.51.0.tar.gz\n",
      "Collecting protobuf>=3.4.0 (from google-api-core<2.0.0dev,>=1.16.0->google-cloud-core<2.0dev,>=1.2.0->google-cloud-storage->smart-open>=1.8.1->gensim)\n",
      "  Downloading https://files.pythonhosted.org/packages/92/30/1b7ccde09bf0c535d11f18a574ed7d7572c729a8f754fd568b297be08b61/protobuf-3.11.3-cp37-cp37m-win_amd64.whl (1.0MB)\n",
      "Requirement already satisfied: pytz in c:\\users\\zumel\\anaconda3\\lib\\site-packages (from google-api-core<2.0.0dev,>=1.16.0->google-cloud-core<2.0dev,>=1.2.0->google-cloud-storage->smart-open>=1.8.1->gensim) (2019.3)\n",
      "Building wheels for collected packages: smart-open, googleapis-common-protos\n",
      "  Building wheel for smart-open (setup.py): started\n",
      "  Building wheel for smart-open (setup.py): finished with status 'done'\n",
      "  Created wheel for smart-open: filename=smart_open-1.10.0-cp37-none-any.whl size=90638 sha256=d0747784f4fa57dd69950c3da8d010b3fdab40777eb1aa49bc312ee73a132c0c\n",
      "  Stored in directory: C:\\Users\\zumel\\AppData\\Local\\pip\\Cache\\wheels\\f8\\00\\d4\\a6b8b6aa241459103d19e757f96645549dd562d5b5de653f44\n",
      "  Building wheel for googleapis-common-protos (setup.py): started\n",
      "  Building wheel for googleapis-common-protos (setup.py): finished with status 'done'\n",
      "  Created wheel for googleapis-common-protos: filename=googleapis_common_protos-1.51.0-cp37-none-any.whl size=77603 sha256=e754d982d5a7309c61e87ea812741b96df13415d16b7655b4a39dfc23c321d44\n",
      "  Stored in directory: C:\\Users\\zumel\\AppData\\Local\\pip\\Cache\\wheels\\2c\\f9\\7f\\6eb87e636072bf467e25348bbeb96849333e6a080dca78f706\n",
      "Successfully built smart-open googleapis-common-protos\n",
      "Installing collected packages: jmespath, botocore, s3transfer, boto3, pyasn1, pyasn1-modules, rsa, cachetools, google-auth, protobuf, googleapis-common-protos, google-api-core, google-cloud-core, google-resumable-media, google-cloud-storage, smart-open, gensim\n",
      "Successfully installed boto3-1.12.37 botocore-1.15.37 cachetools-4.0.0 gensim-3.8.1 google-api-core-1.16.0 google-auth-1.13.1 google-cloud-core-1.3.0 google-cloud-storage-1.27.0 google-resumable-media-0.5.0 googleapis-common-protos-1.51.0 jmespath-0.9.5 protobuf-3.11.3 pyasn1-0.4.8 pyasn1-modules-0.2.8 rsa-4.0 s3transfer-0.3.3 smart-open-1.10.0\n",
      "Note: you may need to restart the kernel to use updated packages.\n"
     ]
    }
   ],
   "source": [
    "pip install gensim"
   ]
  },
  {
   "cell_type": "code",
   "execution_count": 8,
   "metadata": {},
   "outputs": [],
   "source": [
    "from gensim.parsing.preprocessing import remove_stopwords"
   ]
  },
  {
   "cell_type": "code",
   "execution_count": 9,
   "metadata": {},
   "outputs": [],
   "source": [
    "df = pd.read_csv(\"../FullDataset.csv\")"
   ]
  },
  {
   "cell_type": "code",
   "execution_count": 10,
   "metadata": {},
   "outputs": [
    {
     "data": {
      "text/plain": [
       "(92263, 8)"
      ]
     },
     "execution_count": 10,
     "metadata": {},
     "output_type": "execute_result"
    }
   ],
   "source": [
    "df['Song_lyrics'][6000]\n",
    "df = df.dropna(subset=['Song_lyrics'])\n",
    "df.shape"
   ]
  },
  {
   "cell_type": "code",
   "execution_count": 11,
   "metadata": {},
   "outputs": [],
   "source": [
    "def clean_sw(i):\n",
    "    text = df['Song_lyrics'][i]\n",
    "    filtered_sentence = remove_stopwords(text)\n",
    "    temp = re.sub(r'(\\[[^)]*\\])|(\\b\\w{1,3}\\b)|(\\([^)]*\\))', '', filtered_sentence)\n",
    "    words = temp.split()\n",
    "    table = str.maketrans('', '', string.punctuation)\n",
    "    stripped = [w.translate(table) for w in words]\n",
    "    clean = \" \".join(stripped)\n",
    "    return (clean)\n",
    "    \n"
   ]
  },
  {
   "cell_type": "code",
   "execution_count": 12,
   "metadata": {},
   "outputs": [
    {
     "data": {
      "text/plain": [
       "'Visions dreams passion think strange reaction  Baby Ticket ride white line highway Tell friends toll sell soul Poundpound costs gold longer stay white lines long Either nose vein With gain killing brain Higher baby higher baby higher baby  come down Rang dang diggedy dang dang Diggedy dang dang diggedy dang dang pure driven snow  having  baby  getting kinda need  baby Baby million magic crystals painted pure white multimillion dollars overnight Twice sweet sugar Twice bitter salt hooked baby  else fault   Higher baby higher baby higher baby  come down  high baby turn temperature risin   want street gets arrested gonna time years commit crime businessman caught kilos  bail jail that goes raah Athletes rejected governerds corrected Gangsters thugs smugglers thoroughly respected money gets divided women excited  broke  joke  hard hell fight    Little Jack Horner sitting corner With shoes clothes This  funny took money sniffed nose'"
      ]
     },
     "execution_count": 12,
     "metadata": {},
     "output_type": "execute_result"
    }
   ],
   "source": [
    "clean_sw(250)"
   ]
  },
  {
   "cell_type": "code",
   "execution_count": 13,
   "metadata": {},
   "outputs": [
    {
     "data": {
      "text/plain": [
       "(92263, 8)"
      ]
     },
     "execution_count": 13,
     "metadata": {},
     "output_type": "execute_result"
    }
   ],
   "source": [
    "df.shape"
   ]
  },
  {
   "cell_type": "code",
   "execution_count": 14,
   "metadata": {},
   "outputs": [],
   "source": [
    "clean = [clean_sw(i) for i in df.index]"
   ]
  },
  {
   "cell_type": "code",
   "execution_count": 15,
   "metadata": {},
   "outputs": [],
   "source": [
    "df['Cleaned'] = clean"
   ]
  },
  {
   "cell_type": "code",
   "execution_count": 16,
   "metadata": {},
   "outputs": [],
   "source": [
    "count = 0 \n",
    "for i in df.index:\n",
    "    if len(df['Cleaned'][i]) > 300:\n",
    "        count += 1"
   ]
  },
  {
   "cell_type": "code",
   "execution_count": 17,
   "metadata": {},
   "outputs": [
    {
     "data": {
      "text/plain": [
       "53474"
      ]
     },
     "execution_count": 17,
     "metadata": {},
     "output_type": "execute_result"
    }
   ],
   "source": [
    "count"
   ]
  },
  {
   "cell_type": "code",
   "execution_count": 18,
   "metadata": {},
   "outputs": [
    {
     "data": {
      "text/plain": [
       "Artist_name         0\n",
       "Album_name      20680\n",
       "Album_date      34539\n",
       "Song_name           0\n",
       "Song_lyrics         0\n",
       "isEnglish           0\n",
       "origin_city         0\n",
       "origin_state        0\n",
       "Cleaned             0\n",
       "dtype: int64"
      ]
     },
     "execution_count": 18,
     "metadata": {},
     "output_type": "execute_result"
    }
   ],
   "source": [
    "df.isnull().sum()"
   ]
  },
  {
   "cell_type": "code",
   "execution_count": 19,
   "metadata": {},
   "outputs": [],
   "source": [
    "df2 = df[df['Album_date'].notna()]"
   ]
  },
  {
   "cell_type": "code",
   "execution_count": 20,
   "metadata": {},
   "outputs": [
    {
     "data": {
      "text/plain": [
       "(57724, 9)"
      ]
     },
     "execution_count": 20,
     "metadata": {},
     "output_type": "execute_result"
    }
   ],
   "source": [
    "df2.shape"
   ]
  },
  {
   "cell_type": "code",
   "execution_count": 21,
   "metadata": {},
   "outputs": [],
   "source": [
    "count2 = 0 \n",
    "for i in df2.index:\n",
    "    if len(df2['Cleaned'][i]) > 300:\n",
    "        count2 += 1"
   ]
  },
  {
   "cell_type": "code",
   "execution_count": 22,
   "metadata": {},
   "outputs": [
    {
     "data": {
      "text/plain": [
       "31962"
      ]
     },
     "execution_count": 22,
     "metadata": {},
     "output_type": "execute_result"
    }
   ],
   "source": [
    "count2"
   ]
  },
  {
   "cell_type": "code",
   "execution_count": 23,
   "metadata": {},
   "outputs": [],
   "source": [
    "df3 = df2[df2['Cleaned'].map(len) > 300].reset_index()"
   ]
  },
  {
   "cell_type": "code",
   "execution_count": 45,
   "metadata": {},
   "outputs": [
    {
     "data": {
      "text/plain": [
       "(31962, 10)"
      ]
     },
     "execution_count": 45,
     "metadata": {},
     "output_type": "execute_result"
    }
   ],
   "source": [
    "df3 = df3.sort_values(by=[\"Album_date\"])\n",
    "df3.reset_index()\n",
    "df3.shape\n"
   ]
  },
  {
   "cell_type": "code",
   "execution_count": 40,
   "metadata": {},
   "outputs": [],
   "source": [
    "df3.to_csv('../CleanedDataset.csv', index = False)"
   ]
  },
  {
   "cell_type": "code",
   "execution_count": 41,
   "metadata": {},
   "outputs": [],
   "source": [
    "df3['Cleaned'].to_csv(\"../LDAKLDAnalysis/CleanedLyrics.txt\", header = False, index = False)"
   ]
  },
  {
   "cell_type": "code",
   "execution_count": 44,
   "metadata": {},
   "outputs": [
    {
     "data": {
      "text/html": [
       "<div>\n",
       "<style scoped>\n",
       "    .dataframe tbody tr th:only-of-type {\n",
       "        vertical-align: middle;\n",
       "    }\n",
       "\n",
       "    .dataframe tbody tr th {\n",
       "        vertical-align: top;\n",
       "    }\n",
       "\n",
       "    .dataframe thead th {\n",
       "        text-align: right;\n",
       "    }\n",
       "</style>\n",
       "<table border=\"1\" class=\"dataframe\">\n",
       "  <thead>\n",
       "    <tr style=\"text-align: right;\">\n",
       "      <th></th>\n",
       "      <th>index</th>\n",
       "      <th>Artist_name</th>\n",
       "      <th>Album_name</th>\n",
       "      <th>Album_date</th>\n",
       "      <th>Song_name</th>\n",
       "      <th>Song_lyrics</th>\n",
       "      <th>isEnglish</th>\n",
       "      <th>origin_city</th>\n",
       "      <th>origin_state</th>\n",
       "      <th>Cleaned</th>\n",
       "    </tr>\n",
       "  </thead>\n",
       "  <tbody>\n",
       "    <tr>\n",
       "      <td>21957</td>\n",
       "      <td>65502</td>\n",
       "      <td>Whitney Avalon</td>\n",
       "      <td>NaN</td>\n",
       "      <td>2019-09-28</td>\n",
       "      <td>Thinking About You</td>\n",
       "      <td>Hey, it's me, leave a message, or just, like, ...</td>\n",
       "      <td>0.817029</td>\n",
       "      <td>Los Angeles</td>\n",
       "      <td>CA</td>\n",
       "      <td>leave message just like text    little whil...</td>\n",
       "    </tr>\n",
       "    <tr>\n",
       "      <td>16254</td>\n",
       "      <td>49030</td>\n",
       "      <td>Kevin Gates</td>\n",
       "      <td>I’m Him</td>\n",
       "      <td>2019-09-28</td>\n",
       "      <td>Say It Twice</td>\n",
       "      <td>[Intro]\\nAin't gotta say it twice\\nShe gon' ma...</td>\n",
       "      <td>0.794574</td>\n",
       "      <td>Baton Rouge</td>\n",
       "      <td>LA</td>\n",
       "      <td>gotta twice  twice  yeah   poppin poppin thic...</td>\n",
       "    </tr>\n",
       "    <tr>\n",
       "      <td>26330</td>\n",
       "      <td>78108</td>\n",
       "      <td>Lil Tracy</td>\n",
       "      <td>Anarchy</td>\n",
       "      <td>2019-09-28</td>\n",
       "      <td>I Love My Fans</td>\n",
       "      <td>[Intro]\\nSkress\\nI love my fans, I love my fan...</td>\n",
       "      <td>0.746537</td>\n",
       "      <td>Virginia Beach</td>\n",
       "      <td>VA</td>\n",
       "      <td>Skress love fans love fans love motherfuckin f...</td>\n",
       "    </tr>\n",
       "    <tr>\n",
       "      <td>30226</td>\n",
       "      <td>87595</td>\n",
       "      <td>Comethazine</td>\n",
       "      <td>NaN</td>\n",
       "      <td>2019-09-29</td>\n",
       "      <td>GLIDE FREESTYLE</td>\n",
       "      <td>[Intro]\\nGrow up, nigga\\nAyy\\n\\n[Verse]\\nLambo...</td>\n",
       "      <td>0.831373</td>\n",
       "      <td>East St. Louis</td>\n",
       "      <td>IL</td>\n",
       "      <td>Lamborghini Countach white bleed guts inside s...</td>\n",
       "    </tr>\n",
       "    <tr>\n",
       "      <td>25999</td>\n",
       "      <td>77304</td>\n",
       "      <td>Lil Xan</td>\n",
       "      <td>THROW AWAYS</td>\n",
       "      <td>2019-09-30</td>\n",
       "      <td>I Can’t Feel My Face</td>\n",
       "      <td>[Intro]\\nAyy, fuck, huh\\nPrrah, prrah\\nYeah-ye...</td>\n",
       "      <td>0.685590</td>\n",
       "      <td>Redlands</td>\n",
       "      <td>CA</td>\n",
       "      <td>fuck Prrah prrah Yeahyeah  yeahyeah Xanarchy ...</td>\n",
       "    </tr>\n",
       "    <tr>\n",
       "      <td>...</td>\n",
       "      <td>...</td>\n",
       "      <td>...</td>\n",
       "      <td>...</td>\n",
       "      <td>...</td>\n",
       "      <td>...</td>\n",
       "      <td>...</td>\n",
       "      <td>...</td>\n",
       "      <td>...</td>\n",
       "      <td>...</td>\n",
       "      <td>...</td>\n",
       "    </tr>\n",
       "    <tr>\n",
       "      <td>31228</td>\n",
       "      <td>89890</td>\n",
       "      <td>Princess Vitarah</td>\n",
       "      <td>NaN</td>\n",
       "      <td>2020-03-03</td>\n",
       "      <td>I Like Boys Who Have Money</td>\n",
       "      <td>I like boys who have money, money, money, mone...</td>\n",
       "      <td>0.868932</td>\n",
       "      <td>Los Angeles</td>\n",
       "      <td>CA</td>\n",
       "      <td>like boys money money money money money like b...</td>\n",
       "    </tr>\n",
       "    <tr>\n",
       "      <td>31489</td>\n",
       "      <td>90442</td>\n",
       "      <td>Hona Costello</td>\n",
       "      <td>Penelope</td>\n",
       "      <td>2020-03-11</td>\n",
       "      <td>I’ve been gone for sometime</td>\n",
       "      <td>I've been gone for sometime my love, my love\\n...</td>\n",
       "      <td>0.881295</td>\n",
       "      <td>Chicago</td>\n",
       "      <td>IL</td>\n",
       "      <td>gone love love  gone love  gone love love  go...</td>\n",
       "    </tr>\n",
       "    <tr>\n",
       "      <td>23540</td>\n",
       "      <td>70201</td>\n",
       "      <td>Playboi Carti</td>\n",
       "      <td>Whole Lotta Red</td>\n",
       "      <td>2020-03-17</td>\n",
       "      <td>Molly</td>\n",
       "      <td>[Intro]\\nBlatt, yeah\\n\\n[Chorus]\\nLook at thes...</td>\n",
       "      <td>0.776042</td>\n",
       "      <td>Riverdale</td>\n",
       "      <td>GA</td>\n",
       "      <td>Look diamonds shinin yeah Look bitches lyin ye...</td>\n",
       "    </tr>\n",
       "    <tr>\n",
       "      <td>29115</td>\n",
       "      <td>85343</td>\n",
       "      <td>Skaa</td>\n",
       "      <td>NaN</td>\n",
       "      <td>2020-08-20</td>\n",
       "      <td>Rosary</td>\n",
       "      <td>Back in my zone and I’m just flexing on niggas...</td>\n",
       "      <td>0.781690</td>\n",
       "      <td>Boston</td>\n",
       "      <td>MA</td>\n",
       "      <td>Back zone ’ flexing niggas Chasing dough ’ tex...</td>\n",
       "    </tr>\n",
       "    <tr>\n",
       "      <td>20827</td>\n",
       "      <td>62610</td>\n",
       "      <td>Joyner Lucas</td>\n",
       "      <td>NaN</td>\n",
       "      <td>2021-01-03</td>\n",
       "      <td>RLC</td>\n",
       "      <td>Get on with life as a Illustrator\\nI'm an uniq...</td>\n",
       "      <td>0.803279</td>\n",
       "      <td>Worcester</td>\n",
       "      <td>MA</td>\n",
       "      <td>life Illustrator  unique kinda person like dra...</td>\n",
       "    </tr>\n",
       "  </tbody>\n",
       "</table>\n",
       "<p>1000 rows × 10 columns</p>\n",
       "</div>"
      ],
      "text/plain": [
       "       index       Artist_name       Album_name  Album_date  \\\n",
       "21957  65502    Whitney Avalon              NaN  2019-09-28   \n",
       "16254  49030       Kevin Gates          I’m Him  2019-09-28   \n",
       "26330  78108         Lil Tracy          Anarchy  2019-09-28   \n",
       "30226  87595       Comethazine              NaN  2019-09-29   \n",
       "25999  77304           Lil Xan      THROW AWAYS  2019-09-30   \n",
       "...      ...               ...              ...         ...   \n",
       "31228  89890  Princess Vitarah              NaN  2020-03-03   \n",
       "31489  90442     Hona Costello         Penelope  2020-03-11   \n",
       "23540  70201     Playboi Carti  Whole Lotta Red  2020-03-17   \n",
       "29115  85343              Skaa              NaN  2020-08-20   \n",
       "20827  62610      Joyner Lucas              NaN  2021-01-03   \n",
       "\n",
       "                         Song_name  \\\n",
       "21957           Thinking About You   \n",
       "16254                 Say It Twice   \n",
       "26330               I Love My Fans   \n",
       "30226              GLIDE FREESTYLE   \n",
       "25999         I Can’t Feel My Face   \n",
       "...                            ...   \n",
       "31228   I Like Boys Who Have Money   \n",
       "31489  I’ve been gone for sometime   \n",
       "23540                        Molly   \n",
       "29115                       Rosary   \n",
       "20827                          RLC   \n",
       "\n",
       "                                             Song_lyrics  isEnglish  \\\n",
       "21957  Hey, it's me, leave a message, or just, like, ...   0.817029   \n",
       "16254  [Intro]\\nAin't gotta say it twice\\nShe gon' ma...   0.794574   \n",
       "26330  [Intro]\\nSkress\\nI love my fans, I love my fan...   0.746537   \n",
       "30226  [Intro]\\nGrow up, nigga\\nAyy\\n\\n[Verse]\\nLambo...   0.831373   \n",
       "25999  [Intro]\\nAyy, fuck, huh\\nPrrah, prrah\\nYeah-ye...   0.685590   \n",
       "...                                                  ...        ...   \n",
       "31228  I like boys who have money, money, money, mone...   0.868932   \n",
       "31489  I've been gone for sometime my love, my love\\n...   0.881295   \n",
       "23540  [Intro]\\nBlatt, yeah\\n\\n[Chorus]\\nLook at thes...   0.776042   \n",
       "29115  Back in my zone and I’m just flexing on niggas...   0.781690   \n",
       "20827  Get on with life as a Illustrator\\nI'm an uniq...   0.803279   \n",
       "\n",
       "          origin_city origin_state  \\\n",
       "21957     Los Angeles           CA   \n",
       "16254     Baton Rouge           LA   \n",
       "26330  Virginia Beach           VA   \n",
       "30226  East St. Louis           IL   \n",
       "25999        Redlands           CA   \n",
       "...               ...          ...   \n",
       "31228     Los Angeles           CA   \n",
       "31489         Chicago           IL   \n",
       "23540       Riverdale           GA   \n",
       "29115          Boston           MA   \n",
       "20827       Worcester           MA   \n",
       "\n",
       "                                                 Cleaned  \n",
       "21957     leave message just like text    little whil...  \n",
       "16254   gotta twice  twice  yeah   poppin poppin thic...  \n",
       "26330  Skress love fans love fans love motherfuckin f...  \n",
       "30226  Lamborghini Countach white bleed guts inside s...  \n",
       "25999   fuck Prrah prrah Yeahyeah  yeahyeah Xanarchy ...  \n",
       "...                                                  ...  \n",
       "31228  like boys money money money money money like b...  \n",
       "31489   gone love love  gone love  gone love love  go...  \n",
       "23540  Look diamonds shinin yeah Look bitches lyin ye...  \n",
       "29115  Back zone ’ flexing niggas Chasing dough ’ tex...  \n",
       "20827  life Illustrator  unique kinda person like dra...  \n",
       "\n",
       "[1000 rows x 10 columns]"
      ]
     },
     "execution_count": 44,
     "metadata": {},
     "output_type": "execute_result"
    }
   ],
   "source": [
    "df3.tail(1000)"
   ]
  }
 ],
 "metadata": {
  "kernelspec": {
   "display_name": "Python 3",
   "language": "python",
   "name": "python3"
  },
  "language_info": {
   "codemirror_mode": {
    "name": "ipython",
    "version": 3
   },
   "file_extension": ".py",
   "mimetype": "text/x-python",
   "name": "python",
   "nbconvert_exporter": "python",
   "pygments_lexer": "ipython3",
   "version": "3.7.4"
  }
 },
 "nbformat": 4,
 "nbformat_minor": 4
}
